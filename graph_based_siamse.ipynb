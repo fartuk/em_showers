{
 "cells": [
  {
   "cell_type": "code",
   "execution_count": 1,
   "metadata": {},
   "outputs": [
    {
     "data": {
      "text/plain": [
       "(None, <pyximport.pyximport.PyxImporter at 0x7ff19a7fa7b8>)"
      ]
     },
     "execution_count": 1,
     "metadata": {},
     "output_type": "execute_result"
    }
   ],
   "source": [
    "import pyximport\n",
    "pyximport.install()"
   ]
  },
  {
   "cell_type": "code",
   "execution_count": 2,
   "metadata": {},
   "outputs": [],
   "source": [
    "from opera_tools.opera_distance_metric import generate_k_nearest_graph, opera_distance_metric_py, generate_radius_graph"
   ]
  },
  {
   "cell_type": "code",
   "execution_count": 6,
   "metadata": {},
   "outputs": [
    {
     "name": "stdout",
     "output_type": "stream",
     "text": [
      "The autoreload extension is already loaded. To reload it, use:\n",
      "  %reload_ext autoreload\n"
     ]
    }
   ],
   "source": [
    "%load_ext autoreload\n",
    "%autoreload 2\n",
    "\n",
    "import os\n",
    "os.environ[\"CUDA_DEVICE_ORDER\"]=\"PCI_BUS_ID\"   # see issue #152\n",
    "os.environ[\"CUDA_VISIBLE_DEVICES\"]=\"6\"\n",
    "\n",
    "import pandas as pd\n",
    "import numpy as np\n",
    "import matplotlib.pyplot as plt\n",
    "from utils import *\n",
    "from tqdm import tqdm\n",
    "from sklearn.cluster import DBSCAN\n"
   ]
  },
  {
   "cell_type": "code",
   "execution_count": 4,
   "metadata": {},
   "outputs": [],
   "source": [
    "df_train = load('data/opera_train.data')\n"
   ]
  },
  {
   "cell_type": "markdown",
   "metadata": {},
   "source": [
    "## Prepare different graphs and save to the folder"
   ]
  },
  {
   "cell_type": "code",
   "execution_count": 5,
   "metadata": {},
   "outputs": [],
   "source": [
    "def make_graph_df(brick_id):\n",
    "    df_brick = df_train[df_train['brick_id'] == brick_id]\n",
    "    \n",
    "    edges_from, edge_to, dist = generate_k_nearest_graph(df_brick.values, \n",
    "                                                         5,# change\n",
    "                                                         symmetric=True)   \n",
    "    graph_df = pd.DataFrame()\n",
    "    graph_df['from'] = edges_from\n",
    "    graph_df['to'] = edge_to\n",
    "    graph_df['dist'] = dist\n",
    "    \n",
    "    graph_df.to_csv('data/graph_dfs/top5/{}.csv'.format(brick_id))\n",
    "    "
   ]
  },
  {
   "cell_type": "code",
   "execution_count": 43,
   "metadata": {},
   "outputs": [
    {
     "data": {
      "text/plain": [
       "[None,\n",
       " None,\n",
       " None,\n",
       " None,\n",
       " None,\n",
       " None,\n",
       " None,\n",
       " None,\n",
       " None,\n",
       " None,\n",
       " None,\n",
       " None,\n",
       " None,\n",
       " None,\n",
       " None,\n",
       " None,\n",
       " None,\n",
       " None,\n",
       " None,\n",
       " None,\n",
       " None,\n",
       " None,\n",
       " None,\n",
       " None,\n",
       " None,\n",
       " None,\n",
       " None,\n",
       " None,\n",
       " None,\n",
       " None,\n",
       " None,\n",
       " None,\n",
       " None,\n",
       " None,\n",
       " None,\n",
       " None,\n",
       " None,\n",
       " None,\n",
       " None,\n",
       " None,\n",
       " None,\n",
       " None,\n",
       " None,\n",
       " None,\n",
       " None,\n",
       " None,\n",
       " None,\n",
       " None,\n",
       " None,\n",
       " None,\n",
       " None,\n",
       " None,\n",
       " None,\n",
       " None,\n",
       " None,\n",
       " None,\n",
       " None,\n",
       " None,\n",
       " None,\n",
       " None,\n",
       " None,\n",
       " None,\n",
       " None,\n",
       " None,\n",
       " None,\n",
       " None,\n",
       " None,\n",
       " None,\n",
       " None,\n",
       " None,\n",
       " None,\n",
       " None,\n",
       " None,\n",
       " None,\n",
       " None,\n",
       " None,\n",
       " None,\n",
       " None,\n",
       " None,\n",
       " None,\n",
       " None,\n",
       " None,\n",
       " None,\n",
       " None,\n",
       " None,\n",
       " None,\n",
       " None,\n",
       " None,\n",
       " None,\n",
       " None,\n",
       " None,\n",
       " None,\n",
       " None,\n",
       " None,\n",
       " None,\n",
       " None,\n",
       " None,\n",
       " None,\n",
       " None,\n",
       " None,\n",
       " None,\n",
       " None,\n",
       " None,\n",
       " None,\n",
       " None,\n",
       " None,\n",
       " None,\n",
       " None,\n",
       " None,\n",
       " None,\n",
       " None,\n",
       " None,\n",
       " None,\n",
       " None,\n",
       " None,\n",
       " None,\n",
       " None,\n",
       " None,\n",
       " None,\n",
       " None,\n",
       " None,\n",
       " None,\n",
       " None,\n",
       " None,\n",
       " None,\n",
       " None,\n",
       " None,\n",
       " None,\n",
       " None,\n",
       " None,\n",
       " None,\n",
       " None,\n",
       " None,\n",
       " None,\n",
       " None,\n",
       " None,\n",
       " None,\n",
       " None,\n",
       " None,\n",
       " None,\n",
       " None,\n",
       " None,\n",
       " None,\n",
       " None,\n",
       " None,\n",
       " None,\n",
       " None,\n",
       " None,\n",
       " None,\n",
       " None,\n",
       " None,\n",
       " None,\n",
       " None,\n",
       " None,\n",
       " None,\n",
       " None,\n",
       " None,\n",
       " None,\n",
       " None,\n",
       " None,\n",
       " None,\n",
       " None,\n",
       " None,\n",
       " None,\n",
       " None,\n",
       " None,\n",
       " None,\n",
       " None,\n",
       " None,\n",
       " None,\n",
       " None,\n",
       " None,\n",
       " None,\n",
       " None,\n",
       " None,\n",
       " None,\n",
       " None,\n",
       " None,\n",
       " None,\n",
       " None,\n",
       " None,\n",
       " None,\n",
       " None,\n",
       " None,\n",
       " None,\n",
       " None,\n",
       " None,\n",
       " None,\n",
       " None,\n",
       " None,\n",
       " None,\n",
       " None,\n",
       " None,\n",
       " None,\n",
       " None,\n",
       " None,\n",
       " None,\n",
       " None,\n",
       " None,\n",
       " None,\n",
       " None,\n",
       " None,\n",
       " None,\n",
       " None,\n",
       " None,\n",
       " None,\n",
       " None,\n",
       " None,\n",
       " None,\n",
       " None,\n",
       " None,\n",
       " None,\n",
       " None,\n",
       " None,\n",
       " None,\n",
       " None,\n",
       " None,\n",
       " None,\n",
       " None,\n",
       " None,\n",
       " None,\n",
       " None,\n",
       " None,\n",
       " None,\n",
       " None,\n",
       " None,\n",
       " None,\n",
       " None,\n",
       " None,\n",
       " None]"
      ]
     },
     "execution_count": 43,
     "metadata": {},
     "output_type": "execute_result"
    }
   ],
   "source": [
    "from multiprocessing import Pool\n",
    "\n",
    "p = Pool(16)\n",
    "\n",
    "p.map(make_graph_df,  df_train['brick_id'].unique())\n"
   ]
  },
  {
   "cell_type": "code",
   "execution_count": 6,
   "metadata": {},
   "outputs": [],
   "source": [
    "label = pd.read_csv('data/opera_train.solution', sep=' ', header=None)\n",
    "label.columns = ['brick_id', 'shower_id']\n",
    "del label['brick_id']# = label['brick_id'].astype('float')\n",
    "df_train = pd.concat([df_train, label], axis=1)"
   ]
  },
  {
   "cell_type": "code",
   "execution_count": 78,
   "metadata": {},
   "outputs": [],
   "source": [
    "df_train['a0'] = np.arctan2(df_train['SX'].values.copy(), df_train['SY'].values.copy())\n",
    "df_train['sin_a0'] = np.sin(df_train['a0'].values)\n",
    "df_train['cos_a0'] = np.cos(df_train['a0'].values) \n",
    "df_train['rt'] = np.sqrt(df_train['SX'].values.copy() ** 2 + df_train['SX'].values.copy() ** 2)"
   ]
  },
  {
   "cell_type": "code",
   "execution_count": 124,
   "metadata": {},
   "outputs": [
    {
     "data": {
      "image/png": "[encoded data removed]",
      "text/plain": [
       "<Figure size 432x288 with 1 Axes>"
      ]
     },
     "metadata": {
      "needs_background": "light"
     },
     "output_type": "display_data"
    }
   ],
   "source": [
    "plt.hist(node_feat[node_feat.columns[-5]], bins=100)\n",
    "plt.show()"
   ]
  },
  {
   "cell_type": "markdown",
   "metadata": {},
   "source": [
    "## Calculate source graph-features"
   ]
  },
  {
   "cell_type": "code",
   "execution_count": 7,
   "metadata": {},
   "outputs": [
    {
     "name": "stderr",
     "output_type": "stream",
     "text": [
      "100%|██████████| 230/230 [00:20<00:00, 12.81it/s]\n"
     ]
    }
   ],
   "source": [
    "feat_train = []\n",
    "\n",
    "for brick_id in tqdm(df_train['brick_id'].unique()[:]):\n",
    "    df_brick = df_train[df_train['brick_id'] == brick_id]\n",
    "    df_brick.index = range(len(df_brick))\n",
    "    df_graph = pd.read_csv('data/graph_dfs/top5/{}.csv'.format(brick_id)) # repeat for all graphs\n",
    "    \n",
    "    node_feat = df_graph.groupby('from').agg({'dist' : ['sum', 'max', 'mean', 'std', 'median']})\n",
    "    node_feat = pd.concat([df_brick, node_feat], axis=1)\n",
    "#     info = node_feat[['brick_id', 'shower_id']]\n",
    "\n",
    "    \n",
    "#     node_feat = node_feat.drop(['brick_id', 'shower_id'], axis=1)\n",
    "#     node_feat = sc.fit_transform(node_feat)\n",
    "    feat_train.append(node_feat)\n",
    "\n",
    "feat_train = pd.concat(feat_train, axis=0)\n",
    "feat_train.index = range(len(feat_train))"
   ]
  },
  {
   "cell_type": "code",
   "execution_count": 35,
   "metadata": {},
   "outputs": [],
   "source": [
    "from sklearn.preprocessing import StandardScaler\n",
    "sc = StandardScaler()\n",
    "\n",
    "info = feat_train[['brick_id', 'shower_id']]\n",
    "\n",
    "feat_train = feat_train.drop(['brick_id', 'shower_id'], axis=1)\n",
    "feat_train = pd.DataFrame(sc.fit_transform(feat_train))\n",
    "\n",
    "feat_train = pd.concat([info, feat_train], axis=1)"
   ]
  },
  {
   "cell_type": "markdown",
   "metadata": {},
   "source": [
    "## Generator"
   ]
  },
  {
   "cell_type": "code",
   "execution_count": 9,
   "metadata": {},
   "outputs": [],
   "source": [
    "def pair_generator(feat, batch_size=1000):\n",
    "    while True:\n",
    "        brick_id = np.random.choice(feat['brick_id'].unique())\n",
    "        break_df = feat[feat['brick_id'] == brick_id]\n",
    "\n",
    "        first = break_df.sample(batch_size)\n",
    "        second = break_df.sample(batch_size)\n",
    "        target = first['shower_id'].values == second['shower_id'].values\n",
    "\n",
    "        first = first.drop(['brick_id', 'shower_id'], axis=1)\n",
    "        second = second.drop(['brick_id', 'shower_id'], axis=1)\n",
    "        first.index = range(len(first))\n",
    "        second.index = range(len(second))\n",
    "\n",
    "        yield [first.values, second.values], target\n",
    "        #curr = pd.concat([first, second], axis=1)\n"
   ]
  },
  {
   "cell_type": "code",
   "execution_count": 12,
   "metadata": {},
   "outputs": [],
   "source": [
    "for x_batch, y_batch in pair_generator(feat_train[feat_train['brick_id'] < 300]):\n",
    "    break"
   ]
  },
  {
   "cell_type": "code",
   "execution_count": 10,
   "metadata": {},
   "outputs": [
    {
     "name": "stderr",
     "output_type": "stream",
     "text": [
      "Using TensorFlow backend.\n"
     ]
    }
   ],
   "source": [
    "from keras.layers import GlobalAveragePooling2D, Bidirectional, LSTM, TimeDistributed, Dense,\\\n",
    "Concatenate, Dropout, Input, Conv3D, MaxPooling3D, GlobalAveragePooling3D, Reshape, GlobalAveragePooling1D,\\\n",
    "Lambda\n",
    "from keras.models import Model, Sequential\n",
    "from keras.callbacks import ModelCheckpoint\n",
    "from keras.utils import multi_gpu_model\n",
    "import keras.backend as K"
   ]
  },
  {
   "cell_type": "code",
   "execution_count": 11,
   "metadata": {},
   "outputs": [
    {
     "name": "stdout",
     "output_type": "stream",
     "text": [
      "WARNING:tensorflow:From /usr/local/lib/python3.5/dist-packages/tensorflow/python/framework/op_def_library.py:263: colocate_with (from tensorflow.python.framework.ops) is deprecated and will be removed in a future version.\n",
      "Instructions for updating:\n",
      "Colocations handled automatically by placer.\n"
     ]
    },
    {
     "name": "stderr",
     "output_type": "stream",
     "text": [
      "/usr/local/lib/python3.5/dist-packages/ipykernel_launcher.py:3: UserWarning: Update your `Model` call to the Keras 2 API: `Model(inputs=Tensor(\"in..., outputs=Tensor(\"de...)`\n",
      "  This is separate from the ipykernel package so we can avoid doing imports until\n"
     ]
    }
   ],
   "source": [
    "inp = Input(shape=(10,))\n",
    "x = Dense(128)(inp)\n",
    "feature_model = Model(input=inp, output=x)\n",
    "\n",
    "    \n",
    "feat_a_inp = Input(shape=feature_model.output_shape[1:])\n",
    "feat_b_inp = Input(shape=feature_model.output_shape[1:])\n",
    "\n",
    "\n",
    "x1 = Lambda(lambda x: x[0] * x[1])([feat_a_inp, feat_b_inp])\n",
    "x2 = Lambda(lambda x: x[0] + x[1])([feat_a_inp, feat_b_inp])\n",
    "x3 = Lambda(lambda x: K.abs(x[0] - x[1]))([feat_a_inp, feat_b_inp])\n",
    "x4 = Lambda(lambda x: K.square(x))(x3)\n",
    "x = Concatenate()([x1, x2, x3, x4])\n",
    "pred = Dense(1, use_bias=True, activation='sigmoid', name='weighted-average')(x)\n",
    "\n",
    "head_model = Model([feat_a_inp, feat_b_inp], pred, name='head')\n",
    "\n",
    "\n",
    "inp_a = Input(shape=(10,))\n",
    "inp_b = Input(shape=(10,))\n",
    "\n",
    "feat_a = feature_model(inp_a)\n",
    "feat_b = feature_model(inp_b)\n",
    "\n",
    "pred = head_model([feat_a, feat_b])\n",
    "model = Model([inp_a, inp_b], pred)"
   ]
  },
  {
   "cell_type": "code",
   "execution_count": 12,
   "metadata": {},
   "outputs": [
    {
     "name": "stdout",
     "output_type": "stream",
     "text": [
      "__________________________________________________________________________________________________\n",
      "Layer (type)                    Output Shape         Param #     Connected to                     \n",
      "==================================================================================================\n",
      "input_4 (InputLayer)            (None, 10)           0                                            \n",
      "__________________________________________________________________________________________________\n",
      "input_5 (InputLayer)            (None, 10)           0                                            \n",
      "__________________________________________________________________________________________________\n",
      "model_1 (Model)                 (None, 128)          1408        input_4[0][0]                    \n",
      "                                                                 input_5[0][0]                    \n",
      "__________________________________________________________________________________________________\n",
      "head (Model)                    (None, 1)            513         model_1[1][0]                    \n",
      "                                                                 model_1[2][0]                    \n",
      "==================================================================================================\n",
      "Total params: 1,921\n",
      "Trainable params: 1,921\n",
      "Non-trainable params: 0\n",
      "__________________________________________________________________________________________________\n"
     ]
    }
   ],
   "source": [
    "model.summary()"
   ]
  },
  {
   "cell_type": "code",
   "execution_count": null,
   "metadata": {},
   "outputs": [],
   "source": [
    "import keras\n",
    "adam = keras.optimizers.Adam(lr=0.0001, beta_1=0.9, beta_2=0.999, epsilon=1e-08, decay=0.0)\n",
    "\n",
    "\n",
    "\n",
    "model.compile(loss='binary_crossentropy',\n",
    "        optimizer=adam,\n",
    "        metrics=['acc'])"
   ]
  },
  {
   "cell_type": "code",
   "execution_count": null,
   "metadata": {},
   "outputs": [
    {
     "name": "stdout",
     "output_type": "stream",
     "text": [
      "WARNING:tensorflow:From /usr/local/lib/python3.5/dist-packages/tensorflow/python/ops/math_ops.py:3066: to_int32 (from tensorflow.python.ops.math_ops) is deprecated and will be removed in a future version.\n",
      "Instructions for updating:\n",
      "Use tf.cast instead.\n",
      "Epoch 1/40\n"
     ]
    },
    {
     "name": "stderr",
     "output_type": "stream",
     "text": [
      "/usr/local/lib/python3.5/dist-packages/keras/engine/training_generator.py:47: UserWarning: Using a generator with `use_multiprocessing=True` and multiple workers may duplicate your data. Please consider using the`keras.utils.Sequence class.\n",
      "  UserWarning('Using a generator with `use_multiprocessing=True`'\n"
     ]
    },
    {
     "name": "stdout",
     "output_type": "stream",
     "text": [
      "1000/1000 [==============================] - 13s 13ms/step - loss: 0.3024 - acc: 0.9012 - val_loss: 0.2225 - val_acc: 0.9218\n",
      "Epoch 2/40\n",
      "1000/1000 [==============================] - 8s 8ms/step - loss: 0.1814 - acc: 0.9321 - val_loss: 0.1719 - val_acc: 0.9235\n",
      "Epoch 3/40\n",
      "1000/1000 [==============================] - 8s 8ms/step - loss: 0.1462 - acc: 0.9358 - val_loss: 0.1360 - val_acc: 0.9349\n",
      "Epoch 4/40\n",
      "1000/1000 [==============================] - 8s 8ms/step - loss: 0.1165 - acc: 0.9464 - val_loss: 0.1318 - val_acc: 0.9321\n",
      "Epoch 5/40\n",
      "1000/1000 [==============================] - 10s 10ms/step - loss: 0.1086 - acc: 0.9479 - val_loss: 0.1065 - val_acc: 0.9504\n",
      "Epoch 6/40\n",
      "1000/1000 [==============================] - 8s 8ms/step - loss: 0.0999 - acc: 0.9545 - val_loss: 0.1021 - val_acc: 0.9545\n",
      "Epoch 7/40\n",
      "1000/1000 [==============================] - 8s 8ms/step - loss: 0.0931 - acc: 0.9616 - val_loss: 0.0982 - val_acc: 0.9607\n",
      "Epoch 8/40\n",
      "1000/1000 [==============================] - 8s 8ms/step - loss: 0.0901 - acc: 0.9654 - val_loss: 0.0980 - val_acc: 0.9614\n",
      "Epoch 9/40\n",
      "1000/1000 [==============================] - 8s 8ms/step - loss: 0.0895 - acc: 0.9662 - val_loss: 0.0878 - val_acc: 0.9660\n",
      "Epoch 10/40\n",
      "1000/1000 [==============================] - 8s 8ms/step - loss: 0.0873 - acc: 0.9666 - val_loss: 0.0906 - val_acc: 0.9647\n",
      "Epoch 11/40\n",
      "1000/1000 [==============================] - 8s 8ms/step - loss: 0.0911 - acc: 0.9645 - val_loss: 0.0932 - val_acc: 0.9624\n",
      "Epoch 12/40\n",
      "1000/1000 [==============================] - 8s 8ms/step - loss: 0.0896 - acc: 0.9642 - val_loss: 0.0928 - val_acc: 0.9644\n",
      "Epoch 13/40\n",
      "1000/1000 [==============================] - 8s 8ms/step - loss: 0.0863 - acc: 0.9671 - val_loss: 0.0944 - val_acc: 0.9619\n",
      "Epoch 14/40\n",
      "1000/1000 [==============================] - 7s 7ms/step - loss: 0.0813 - acc: 0.9684 - val_loss: 0.0877 - val_acc: 0.9655\n",
      "Epoch 15/40\n",
      "1000/1000 [==============================] - 7s 7ms/step - loss: 0.0880 - acc: 0.9665 - val_loss: 0.0933 - val_acc: 0.9630\n",
      "Epoch 16/40\n",
      "1000/1000 [==============================] - 8s 8ms/step - loss: 0.0857 - acc: 0.9669 - val_loss: 0.0899 - val_acc: 0.9653\n",
      "Epoch 17/40\n",
      "1000/1000 [==============================] - 8s 8ms/step - loss: 0.0857 - acc: 0.9670 - val_loss: 0.0938 - val_acc: 0.9639\n",
      "Epoch 18/40\n",
      "1000/1000 [==============================] - 8s 8ms/step - loss: 0.0855 - acc: 0.9650 - val_loss: 0.0953 - val_acc: 0.9622\n",
      "Epoch 19/40\n",
      "1000/1000 [==============================] - 8s 8ms/step - loss: 0.0861 - acc: 0.9667 - val_loss: 0.0849 - val_acc: 0.9677\n",
      "Epoch 20/40\n",
      "1000/1000 [==============================] - 7s 7ms/step - loss: 0.0864 - acc: 0.9655 - val_loss: 0.0966 - val_acc: 0.9621\n",
      "Epoch 21/40\n",
      "1000/1000 [==============================] - 8s 8ms/step - loss: 0.0832 - acc: 0.9665 - val_loss: 0.0885 - val_acc: 0.9652\n",
      "Epoch 22/40\n",
      "1000/1000 [==============================] - 8s 8ms/step - loss: 0.0830 - acc: 0.9675 - val_loss: 0.0943 - val_acc: 0.9641\n",
      "Epoch 23/40\n",
      "1000/1000 [==============================] - 8s 8ms/step - loss: 0.0844 - acc: 0.9659 - val_loss: 0.0873 - val_acc: 0.9655\n",
      "Epoch 24/40\n",
      "1000/1000 [==============================] - 8s 8ms/step - loss: 0.0879 - acc: 0.9647 - val_loss: 0.0867 - val_acc: 0.9652\n",
      "Epoch 25/40\n",
      "1000/1000 [==============================] - 8s 8ms/step - loss: 0.0831 - acc: 0.9664 - val_loss: 0.0893 - val_acc: 0.9643\n",
      "Epoch 26/40\n",
      "1000/1000 [==============================] - 8s 8ms/step - loss: 0.0827 - acc: 0.9669 - val_loss: 0.0926 - val_acc: 0.9626\n",
      "Epoch 27/40\n",
      "1000/1000 [==============================] - 8s 8ms/step - loss: 0.0840 - acc: 0.9668 - val_loss: 0.0854 - val_acc: 0.9673\n",
      "Epoch 28/40\n",
      "1000/1000 [==============================] - 8s 8ms/step - loss: 0.0830 - acc: 0.9666 - val_loss: 0.0903 - val_acc: 0.9635\n",
      "Epoch 29/40\n",
      "1000/1000 [==============================] - 8s 8ms/step - loss: 0.0831 - acc: 0.9662 - val_loss: 0.0863 - val_acc: 0.9659\n",
      "Epoch 30/40\n",
      "1000/1000 [==============================] - 8s 8ms/step - loss: 0.0841 - acc: 0.9666 - val_loss: 0.0895 - val_acc: 0.9641\n",
      "Epoch 31/40\n",
      "1000/1000 [==============================] - 8s 8ms/step - loss: 0.0823 - acc: 0.9666 - val_loss: 0.0836 - val_acc: 0.9665\n",
      "Epoch 32/40\n",
      "1000/1000 [==============================] - 8s 8ms/step - loss: 0.0836 - acc: 0.9662 - val_loss: 0.0875 - val_acc: 0.9647\n",
      "Epoch 33/40\n",
      "1000/1000 [==============================] - 8s 8ms/step - loss: 0.0822 - acc: 0.9660 - val_loss: 0.0886 - val_acc: 0.9645\n",
      "Epoch 34/40\n",
      "1000/1000 [==============================] - 7s 7ms/step - loss: 0.0824 - acc: 0.9663 - val_loss: 0.0863 - val_acc: 0.9652\n",
      "Epoch 35/40\n",
      "1000/1000 [==============================] - 8s 8ms/step - loss: 0.0852 - acc: 0.9651 - val_loss: 0.0851 - val_acc: 0.9657\n",
      "Epoch 36/40\n",
      "1000/1000 [==============================] - 7s 7ms/step - loss: 0.0815 - acc: 0.9665 - val_loss: 0.0904 - val_acc: 0.9636\n",
      "Epoch 37/40\n",
      "1000/1000 [==============================] - 7s 7ms/step - loss: 0.0833 - acc: 0.9658 - val_loss: 0.0893 - val_acc: 0.9637\n",
      "Epoch 38/40\n",
      "1000/1000 [==============================] - 7s 7ms/step - loss: 0.0834 - acc: 0.9663 - val_loss: 0.0826 - val_acc: 0.9672\n",
      "Epoch 39/40\n",
      "1000/1000 [==============================] - 7s 7ms/step - loss: 0.0848 - acc: 0.9649 - val_loss: 0.0848 - val_acc: 0.9667\n",
      "Epoch 40/40\n",
      "1000/1000 [==============================] - 8s 8ms/step - loss: 0.0818 - acc: 0.9675 - val_loss: 0.0916 - val_acc: 0.9631\n"
     ]
    },
    {
     "data": {
      "text/plain": [
       "<keras.callbacks.History at 0x7fe852496ba8>"
      ]
     },
     "execution_count": 13,
     "metadata": {},
     "output_type": "execute_result"
    }
   ],
   "source": [
    "model.fit_generator(generator=pair_generator(feat_train[feat_train['brick_id'] <= 300]),\n",
    "                    steps_per_epoch=1000,\n",
    "                    epochs=40,\n",
    "                    verbose=1,\n",
    "                    #callbacks=[MultiGPUCbk(model_s, '../../hdd/weights/pass_conv3d_lstm_%d.h5')],\n",
    "                    validation_data=pair_generator(feat_train[feat_train['brick_id'] > 300]),\n",
    "                    validation_steps=1000,\n",
    "                    class_weight=None,\n",
    "                    max_queue_size=10,\n",
    "                    workers=16,\n",
    "                    use_multiprocessing=True,\n",
    "                    shuffle=True,\n",
    "                    initial_epoch=0)"
   ]
  },
  {
   "cell_type": "code",
   "execution_count": null,
   "metadata": {},
   "outputs": [],
   "source": [
    "model.save_weights('tmp.h5')"
   ]
  },
  {
   "cell_type": "code",
   "execution_count": 43,
   "metadata": {},
   "outputs": [
    {
     "data": {
      "image/png": "[encoded data removed]",
      "text/plain": [
       "<Figure size 1080x720 with 1 Axes>"
      ]
     },
     "metadata": {
      "needs_background": "light"
     },
     "output_type": "display_data"
    }
   ],
   "source": [
    "df_brick = df_train[df_train['brick_id'] == 2]\n",
    "\n",
    "plt.figure(figsize=(15,10))\n",
    "plt.xlim((-5, 5))\n",
    "\n",
    "for shower_id in df_brick['shower_id'].unique()[:]:\n",
    "    plt.hist(df_brick[df_brick['shower_id'] == shower_id]['nn_pca_feat'].values, range=(-2,2), bins=200)\n",
    "    \n",
    "plt.show()\n"
   ]
  },
  {
   "cell_type": "code",
   "execution_count": null,
   "metadata": {},
   "outputs": [],
   "source": [
    "faeture_model = model.get_layer('model_1')\n",
    "preds = faeture_model.predict(feat_train.drop(['brick_id', 'shower_id'], axis=1).values)"
   ]
  },
  {
   "cell_type": "code",
   "execution_count": 21,
   "metadata": {},
   "outputs": [],
   "source": [
    "from sklearn.decomposition import PCA\n",
    "pca = PCA(1)\n",
    "nn_pca_feat = pca.fit_transform(preds)"
   ]
  },
  {
   "cell_type": "code",
   "execution_count": 27,
   "metadata": {},
   "outputs": [],
   "source": [
    "df_train['nn_pca_feat'] = nn_pca_feat"
   ]
  },
  {
   "cell_type": "code",
   "execution_count": 28,
   "metadata": {},
   "outputs": [
    {
     "data": {
      "text/plain": [
       "(3000038, 128)"
      ]
     },
     "execution_count": 28,
     "metadata": {},
     "output_type": "execute_result"
    }
   ],
   "source": [
    "preds.shape"
   ]
  },
  {
   "cell_type": "code",
   "execution_count": 41,
   "metadata": {},
   "outputs": [
    {
     "data": {
      "image/png": "[encoded data removed]",
      "text/plain": [
       "<Figure size 1080x720 with 1 Axes>"
      ]
     },
     "metadata": {
      "needs_background": "light"
     },
     "output_type": "display_data"
    }
   ],
   "source": [
    "plt.figure(figsize=(15,10))\n",
    "plt.xlim((-1, 1))\n",
    "\n",
    "plt.hist(nn_pca_feat[10000:11000, 0], bins=200)\n",
    "plt.show()"
   ]
  },
  {
   "cell_type": "code",
   "execution_count": 76,
   "metadata": {},
   "outputs": [
    {
     "data": {
      "image/png": "[encoded data removed]",
      "text/plain": [
       "<Figure size 1080x720 with 1 Axes>"
      ]
     },
     "metadata": {
      "needs_background": "light"
     },
     "output_type": "display_data"
    }
   ],
   "source": [
    "plt.figure(figsize=(15,10))\n",
    "plt.hist(nn_pca_feat[:50000, 0], bins=200)\n",
    "plt.show()"
   ]
  },
  {
   "cell_type": "code",
   "execution_count": 34,
   "metadata": {},
   "outputs": [
    {
     "name": "stderr",
     "output_type": "stream",
     "text": [
      "100%|██████████| 230/230 [03:34<00:00,  1.07it/s]\n"
     ]
    }
   ],
   "source": [
    "from sklearn.cluster import DBSCAN\n",
    "\n",
    "\n",
    "predicted_labels = []\n",
    "\n",
    "for brick_id in tqdm(feat_train['brick_id'].unique()[:]):\n",
    "    dbscan = DBSCAN()\n",
    "    brick_feat = feat_train[feat_train['brick_id'] == brick_id][['nn_pca_feat']] #*\\\n",
    "    #np.array([10,10,1,1])\n",
    "    pred = dbscan.fit_predict(brick_feat.values)\n",
    "    predicted_labels.append(pred)\n",
    "        \n",
    "\n",
    "preds = np.vstack([df_train.brick_id.values, np.concatenate(predicted_labels)]).T"
   ]
  },
  {
   "cell_type": "code",
   "execution_count": 24,
   "metadata": {},
   "outputs": [],
   "source": [
    "feat_train['nn_pca_feat'] = nn_pca_feat"
   ]
  },
  {
   "cell_type": "code",
   "execution_count": 24,
   "metadata": {},
   "outputs": [],
   "source": [
    "brick_feat = feat_train[feat_train['brick_id'] == 0][[0,1,2, 'nn_pca_feat']]"
   ]
  },
  {
   "cell_type": "code",
   "execution_count": null,
   "metadata": {},
   "outputs": [],
   "source": [
    "scorer(labels_true=df_train[['brick_id', 'shower_id']].values, labels_pred=preds)"
   ]
  },
  {
   "cell_type": "code",
   "execution_count": null,
   "metadata": {},
   "outputs": [],
   "source": [
    "0.6044310031029455"
   ]
  },
  {
   "cell_type": "code",
   "execution_count": null,
   "metadata": {},
   "outputs": [],
   "source": []
  },
  {
   "cell_type": "code",
   "execution_count": null,
   "metadata": {},
   "outputs": [],
   "source": []
  },
  {
   "cell_type": "code",
   "execution_count": null,
   "metadata": {},
   "outputs": [],
   "source": []
  },
  {
   "cell_type": "code",
   "execution_count": null,
   "metadata": {},
   "outputs": [],
   "source": []
  },
  {
   "cell_type": "code",
   "execution_count": null,
   "metadata": {},
   "outputs": [],
   "source": []
  }
 ],
 "metadata": {
  "kernelspec": {
   "display_name": "Python 3",
   "language": "python",
   "name": "python3"
  },
  "language_info": {
   "codemirror_mode": {
    "name": "ipython",
    "version": 3
   },
   "file_extension": ".py",
   "mimetype": "text/x-python",
   "name": "python",
   "nbconvert_exporter": "python",
   "pygments_lexer": "ipython3",
   "version": "3.5.2"
  }
 },
 "nbformat": 4,
 "nbformat_minor": 2
}
