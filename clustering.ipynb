{
 "cells": [
  {
   "cell_type": "code",
   "execution_count": 1,
   "metadata": {},
   "outputs": [],
   "source": [
    "%load_ext autoreload\n",
    "%autoreload 2\n",
    "\n",
    "import pandas as pd\n",
    "import numpy as np\n",
    "import matplotlib.pyplot as plt\n",
    "from sklearn.cluster import DBSCAN\n",
    "from utils import *"
   ]
  },
  {
   "cell_type": "code",
   "execution_count": 3,
   "metadata": {},
   "outputs": [],
   "source": [
    "df_train = load('data/opera_train.data')\n",
    "df_test= load('data/opera_test.data')\n",
    "\n",
    "label = pd.read_csv('data/opera_train.solution', sep=' ', header=None)\n",
    "label.columns = ['brick_id', 'shower_id']\n",
    "del label['brick_id']# = label['brick_id'].astype('float')\n",
    "df_train = pd.concat([df_train, label], axis=1)"
   ]
  },
  {
   "cell_type": "code",
   "execution_count": 5,
   "metadata": {},
   "outputs": [
    {
     "data": {
      "text/plain": [
       "(3000038, 6)"
      ]
     },
     "execution_count": 5,
     "metadata": {},
     "output_type": "execute_result"
    }
   ],
   "source": [
    "df_train.shape"
   ]
  },
  {
   "cell_type": "code",
   "execution_count": 43,
   "metadata": {},
   "outputs": [
    {
     "data": {
      "text/html": [
       "<div>\n",
       "<style scoped>\n",
       "    .dataframe tbody tr th:only-of-type {\n",
       "        vertical-align: middle;\n",
       "    }\n",
       "\n",
       "    .dataframe tbody tr th {\n",
       "        vertical-align: top;\n",
       "    }\n",
       "\n",
       "    .dataframe thead th {\n",
       "        text-align: right;\n",
       "    }\n",
       "</style>\n",
       "<table border=\"1\" class=\"dataframe\">\n",
       "  <thead>\n",
       "    <tr style=\"text-align: right;\">\n",
       "      <th></th>\n",
       "      <th>brick_id</th>\n",
       "      <th>SX</th>\n",
       "      <th>SY</th>\n",
       "      <th>SZ</th>\n",
       "      <th>TX</th>\n",
       "      <th>TY</th>\n",
       "      <th>shower_id</th>\n",
       "      <th>a0</th>\n",
       "      <th>sin_a0</th>\n",
       "      <th>cos_a0</th>\n",
       "      <th>rt</th>\n",
       "    </tr>\n",
       "  </thead>\n",
       "  <tbody>\n",
       "    <tr>\n",
       "      <th>0</th>\n",
       "      <td>0.0</td>\n",
       "      <td>-10177.71</td>\n",
       "      <td>-8697.63</td>\n",
       "      <td>-24330.69</td>\n",
       "      <td>-0.1505</td>\n",
       "      <td>0.1620</td>\n",
       "      <td>0</td>\n",
       "      <td>-2.277941</td>\n",
       "      <td>-0.760220</td>\n",
       "      <td>-0.649666</td>\n",
       "      <td>14393.455516</td>\n",
       "    </tr>\n",
       "    <tr>\n",
       "      <th>1</th>\n",
       "      <td>0.0</td>\n",
       "      <td>-10375.19</td>\n",
       "      <td>-8490.78</td>\n",
       "      <td>-23056.31</td>\n",
       "      <td>-0.1585</td>\n",
       "      <td>0.1673</td>\n",
       "      <td>0</td>\n",
       "      <td>-2.256641</td>\n",
       "      <td>-0.773885</td>\n",
       "      <td>-0.633327</td>\n",
       "      <td>14672.734410</td>\n",
       "    </tr>\n",
       "    <tr>\n",
       "      <th>2</th>\n",
       "      <td>0.0</td>\n",
       "      <td>-10591.61</td>\n",
       "      <td>-8268.13</td>\n",
       "      <td>-21785.49</td>\n",
       "      <td>-0.1913</td>\n",
       "      <td>0.1805</td>\n",
       "      <td>0</td>\n",
       "      <td>-2.233614</td>\n",
       "      <td>-0.788261</td>\n",
       "      <td>-0.615341</td>\n",
       "      <td>14978.798509</td>\n",
       "    </tr>\n",
       "    <tr>\n",
       "      <th>3</th>\n",
       "      <td>0.0</td>\n",
       "      <td>-10827.50</td>\n",
       "      <td>-8042.95</td>\n",
       "      <td>-20510.45</td>\n",
       "      <td>-0.1643</td>\n",
       "      <td>0.2017</td>\n",
       "      <td>0</td>\n",
       "      <td>-2.209690</td>\n",
       "      <td>-0.802756</td>\n",
       "      <td>-0.596308</td>\n",
       "      <td>15312.397347</td>\n",
       "    </tr>\n",
       "    <tr>\n",
       "      <th>4</th>\n",
       "      <td>0.0</td>\n",
       "      <td>-11053.21</td>\n",
       "      <td>-7800.50</td>\n",
       "      <td>-19239.20</td>\n",
       "      <td>-0.2127</td>\n",
       "      <td>0.1621</td>\n",
       "      <td>0</td>\n",
       "      <td>-2.185353</td>\n",
       "      <td>-0.817029</td>\n",
       "      <td>-0.576596</td>\n",
       "      <td>15631.599490</td>\n",
       "    </tr>\n",
       "  </tbody>\n",
       "</table>\n",
       "</div>"
      ],
      "text/plain": [
       "   brick_id        SX       SY        SZ      TX      TY  shower_id        a0  \\\n",
       "0       0.0 -10177.71 -8697.63 -24330.69 -0.1505  0.1620          0 -2.277941   \n",
       "1       0.0 -10375.19 -8490.78 -23056.31 -0.1585  0.1673          0 -2.256641   \n",
       "2       0.0 -10591.61 -8268.13 -21785.49 -0.1913  0.1805          0 -2.233614   \n",
       "3       0.0 -10827.50 -8042.95 -20510.45 -0.1643  0.2017          0 -2.209690   \n",
       "4       0.0 -11053.21 -7800.50 -19239.20 -0.2127  0.1621          0 -2.185353   \n",
       "\n",
       "     sin_a0    cos_a0            rt  \n",
       "0 -0.760220 -0.649666  14393.455516  \n",
       "1 -0.773885 -0.633327  14672.734410  \n",
       "2 -0.788261 -0.615341  14978.798509  \n",
       "3 -0.802756 -0.596308  15312.397347  \n",
       "4 -0.817029 -0.576596  15631.599490  "
      ]
     },
     "execution_count": 43,
     "metadata": {},
     "output_type": "execute_result"
    }
   ],
   "source": [
    "df_train[:5]"
   ]
  },
  {
   "cell_type": "code",
   "execution_count": 4,
   "metadata": {},
   "outputs": [],
   "source": [
    "df_train['a0'] = np.arctan2(df_train['SX'].values.copy(), df_train['SY'].values.copy())\n",
    "\n",
    "df_train['sin_a0'] = np.sin(df_train['a0'].values)\n",
    "df_train['cos_a0'] = np.cos(df_train['a0'].values) \n",
    "df_train['rt'] = np.sqrt(df_train['SX'].values.copy() ** 2 + df_train['SX'].values.copy() ** 2)"
   ]
  },
  {
   "cell_type": "code",
   "execution_count": null,
   "metadata": {},
   "outputs": [],
   "source": [
    "# df_train['sin_a0'] = np.sin(df_train['a0'].values)\n",
    "# df_train['cos_a0'] = np.cos(df_train['a0'].values) "
   ]
  },
  {
   "cell_type": "code",
   "execution_count": null,
   "metadata": {},
   "outputs": [],
   "source": [
    "np.arctan2(hits['y'].values, hits['x'].values)"
   ]
  },
  {
   "cell_type": "code",
   "execution_count": 10,
   "metadata": {},
   "outputs": [
    {
     "data": {
      "text/plain": [
       "(array([146549.,  70899.,  52373.,  46234.,  39932.,  36722.,  35805.,\n",
       "         33292.,  31368.,  29351.,  28006.,  28508.,  29050.,  29762.,\n",
       "         28625.,  26719.,  25306.,  24565.,  22800.,  22067.,  20938.,\n",
       "         20299.,  19279.,  18697.,  18656.,  19265.,  19271.,  18714.,\n",
       "         17325.,  15409.,  14715.,  13680.,  13391.,  13427.,  12802.,\n",
       "         12062.,  11903.,  11780.,  11110.,  10832.,  10711.,  10512.,\n",
       "         10300.,   9649.,   9258.,   9188.,   9021.,   9055.,   8915.,\n",
       "          8621.,   8124.,   7739.,   7662.,   7773.,   7530.,   7330.,\n",
       "          7427.,   7755.,   7882.,   7519.,   7299.,   7047.,   6946.,\n",
       "          6698.,   6563.,   6671.,   6543.,   6492.,   6311.,   6155.,\n",
       "          6277.,   6254.,   6222.,   6042.,   5885.,   5887.,   5961.,\n",
       "          5778.,   5567.,   5459.,   5747.,   5809.,   5748.,   5505.,\n",
       "          5532.,   5514.,   5226.,   5115.,   5036.,   5207.,   5262.,\n",
       "          5118.,   5076.,   4936.,   5007.,   5204.,   5053.,   5371.,\n",
       "          5368.,   5305.,   5429.,   5535.,   5188.,   5078.,   5118.,\n",
       "          5106.,   5498.,   5415.,   5648.,   5473.,   5471.,   5600.,\n",
       "          5875.,   5837.,   5906.,   5950.,   5914.,   5969.,   5883.,\n",
       "          5780.,   5644.,   5567.,   5460.,   5214.,   5494.,   5532.,\n",
       "          5703.,   5834.,   5992.,   6283.,   6325.,   6254.,   6436.,\n",
       "          6323.,   6441.,   6459.,   6517.,   6681.,   6673.,   6971.,\n",
       "          7159.,   7025.,   7159.,   7539.,   7849.,   8010.,   7925.,\n",
       "          8174.,   8162.,   8465.,   8504.,   8612.,   8974.,   8962.,\n",
       "          9074.,   9032.,   9149.,   9296.,   9458.,   9856.,  10097.,\n",
       "         10436.,  10662.,  10901.,  11286.,  11975.,  12094.,  12314.,\n",
       "         12934.,  13433.,  14698.,  15770.,  17318.,  17730.,  18368.,\n",
       "         19113.,  20558.,  22182.,  25195.,  26173.,  27420.,  25490.,\n",
       "         26102.,  26510.,  26186.,  27101.,  27528.,  27444.,  28292.,\n",
       "         27138.,  27895.,  29680.,  30493.,  34181.,  34766.,  37341.,\n",
       "         45088.,  55673.,  65919., 149039.]),\n",
       " array([-1.00000000e+00, -9.90000000e-01, -9.80000000e-01, -9.70000000e-01,\n",
       "        -9.60000000e-01, -9.50000000e-01, -9.40000000e-01, -9.30000000e-01,\n",
       "        -9.20000000e-01, -9.10000000e-01, -9.00000000e-01, -8.90000000e-01,\n",
       "        -8.80000000e-01, -8.70000000e-01, -8.60000000e-01, -8.50000000e-01,\n",
       "        -8.40000000e-01, -8.30000000e-01, -8.20000000e-01, -8.10000000e-01,\n",
       "        -8.00000000e-01, -7.90000000e-01, -7.80000000e-01, -7.70000000e-01,\n",
       "        -7.60000000e-01, -7.50000000e-01, -7.40000000e-01, -7.30000000e-01,\n",
       "        -7.20000000e-01, -7.10000000e-01, -7.00000000e-01, -6.90000000e-01,\n",
       "        -6.80000000e-01, -6.70000000e-01, -6.60000000e-01, -6.50000000e-01,\n",
       "        -6.40000000e-01, -6.30000000e-01, -6.20000000e-01, -6.10000000e-01,\n",
       "        -6.00000000e-01, -5.90000000e-01, -5.80000000e-01, -5.70000000e-01,\n",
       "        -5.60000000e-01, -5.50000000e-01, -5.40000000e-01, -5.30000000e-01,\n",
       "        -5.20000000e-01, -5.10000000e-01, -5.00000000e-01, -4.90000000e-01,\n",
       "        -4.80000000e-01, -4.70000000e-01, -4.60000000e-01, -4.50000000e-01,\n",
       "        -4.40000000e-01, -4.30000000e-01, -4.20000000e-01, -4.10000000e-01,\n",
       "        -4.00000000e-01, -3.90000000e-01, -3.80000000e-01, -3.70000000e-01,\n",
       "        -3.60000000e-01, -3.50000000e-01, -3.40000000e-01, -3.30000000e-01,\n",
       "        -3.20000000e-01, -3.10000000e-01, -3.00000000e-01, -2.90000000e-01,\n",
       "        -2.80000000e-01, -2.70000000e-01, -2.60000000e-01, -2.50000000e-01,\n",
       "        -2.40000000e-01, -2.30000000e-01, -2.20000000e-01, -2.10000000e-01,\n",
       "        -2.00000000e-01, -1.90000000e-01, -1.80000000e-01, -1.70000000e-01,\n",
       "        -1.60000000e-01, -1.50000000e-01, -1.40000000e-01, -1.30000000e-01,\n",
       "        -1.20000000e-01, -1.10000000e-01, -1.00000000e-01, -9.00000000e-02,\n",
       "        -8.00000000e-02, -7.00000000e-02, -6.00000000e-02, -5.00000000e-02,\n",
       "        -4.00000000e-02, -3.00000000e-02, -2.00000000e-02, -1.00000000e-02,\n",
       "         5.97633054e-13,  1.00000000e-02,  2.00000000e-02,  3.00000000e-02,\n",
       "         4.00000000e-02,  5.00000000e-02,  6.00000000e-02,  7.00000000e-02,\n",
       "         8.00000000e-02,  9.00000000e-02,  1.00000000e-01,  1.10000000e-01,\n",
       "         1.20000000e-01,  1.30000000e-01,  1.40000000e-01,  1.50000000e-01,\n",
       "         1.60000000e-01,  1.70000000e-01,  1.80000000e-01,  1.90000000e-01,\n",
       "         2.00000000e-01,  2.10000000e-01,  2.20000000e-01,  2.30000000e-01,\n",
       "         2.40000000e-01,  2.50000000e-01,  2.60000000e-01,  2.70000000e-01,\n",
       "         2.80000000e-01,  2.90000000e-01,  3.00000000e-01,  3.10000000e-01,\n",
       "         3.20000000e-01,  3.30000000e-01,  3.40000000e-01,  3.50000000e-01,\n",
       "         3.60000000e-01,  3.70000000e-01,  3.80000000e-01,  3.90000000e-01,\n",
       "         4.00000000e-01,  4.10000000e-01,  4.20000000e-01,  4.30000000e-01,\n",
       "         4.40000000e-01,  4.50000000e-01,  4.60000000e-01,  4.70000000e-01,\n",
       "         4.80000000e-01,  4.90000000e-01,  5.00000000e-01,  5.10000000e-01,\n",
       "         5.20000000e-01,  5.30000000e-01,  5.40000000e-01,  5.50000000e-01,\n",
       "         5.60000000e-01,  5.70000000e-01,  5.80000000e-01,  5.90000000e-01,\n",
       "         6.00000000e-01,  6.10000000e-01,  6.20000000e-01,  6.30000000e-01,\n",
       "         6.40000000e-01,  6.50000000e-01,  6.60000000e-01,  6.70000000e-01,\n",
       "         6.80000000e-01,  6.90000000e-01,  7.00000000e-01,  7.10000000e-01,\n",
       "         7.20000000e-01,  7.30000000e-01,  7.40000000e-01,  7.50000000e-01,\n",
       "         7.60000000e-01,  7.70000000e-01,  7.80000000e-01,  7.90000000e-01,\n",
       "         8.00000000e-01,  8.10000000e-01,  8.20000000e-01,  8.30000000e-01,\n",
       "         8.40000000e-01,  8.50000000e-01,  8.60000000e-01,  8.70000000e-01,\n",
       "         8.80000000e-01,  8.90000000e-01,  9.00000000e-01,  9.10000000e-01,\n",
       "         9.20000000e-01,  9.30000000e-01,  9.40000000e-01,  9.50000000e-01,\n",
       "         9.60000000e-01,  9.70000000e-01,  9.80000000e-01,  9.90000000e-01,\n",
       "         1.00000000e+00]),\n",
       " <a list of 200 Patch objects>)"
      ]
     },
     "execution_count": 10,
     "metadata": {},
     "output_type": "execute_result"
    },
    {
     "data": {
      "image/png": "[encoded data removed]",
      "text/plain": [
       "<Figure size 720x720 with 1 Axes>"
      ]
     },
     "metadata": {
      "needs_background": "light"
     },
     "output_type": "display_data"
    }
   ],
   "source": [
    "plt.figure(figsize=(10,10))\n",
    "plt.hist(df_train['cos_a0'], bins=200)"
   ]
  },
  {
   "cell_type": "code",
   "execution_count": 27,
   "metadata": {},
   "outputs": [],
   "source": []
  },
  {
   "cell_type": "code",
   "execution_count": 44,
   "metadata": {},
   "outputs": [
    {
     "data": {
      "text/plain": [
       "1.0"
      ]
     },
     "execution_count": 44,
     "metadata": {},
     "output_type": "execute_result"
    }
   ],
   "source": [
    "gt = np.array([[0,1], [0, 2]])\n",
    "p = np.array([[0,2], [0, 2]])\n",
    "scorer(df_train[['brick_id', 'shower_id']].values, df_train[['brick_id', 'shower_id']].values)"
   ]
  },
  {
   "cell_type": "code",
   "execution_count": 29,
   "metadata": {},
   "outputs": [
    {
     "data": {
      "text/html": [
       "<div>\n",
       "<style scoped>\n",
       "    .dataframe tbody tr th:only-of-type {\n",
       "        vertical-align: middle;\n",
       "    }\n",
       "\n",
       "    .dataframe tbody tr th {\n",
       "        vertical-align: top;\n",
       "    }\n",
       "\n",
       "    .dataframe thead th {\n",
       "        text-align: right;\n",
       "    }\n",
       "</style>\n",
       "<table border=\"1\" class=\"dataframe\">\n",
       "  <thead>\n",
       "    <tr style=\"text-align: right;\">\n",
       "      <th></th>\n",
       "      <th>brick_id</th>\n",
       "      <th>SX</th>\n",
       "      <th>SY</th>\n",
       "      <th>SZ</th>\n",
       "      <th>TX</th>\n",
       "      <th>TY</th>\n",
       "      <th>shower_id</th>\n",
       "      <th>a0</th>\n",
       "      <th>sin_a0</th>\n",
       "      <th>cos_a0</th>\n",
       "    </tr>\n",
       "  </thead>\n",
       "  <tbody>\n",
       "    <tr>\n",
       "      <th>0</th>\n",
       "      <td>0.0</td>\n",
       "      <td>-10177.71</td>\n",
       "      <td>-8697.63</td>\n",
       "      <td>-24330.69</td>\n",
       "      <td>-0.1505</td>\n",
       "      <td>0.1620</td>\n",
       "      <td>0</td>\n",
       "      <td>-2.277941</td>\n",
       "      <td>-0.760220</td>\n",
       "      <td>-0.649666</td>\n",
       "    </tr>\n",
       "    <tr>\n",
       "      <th>1</th>\n",
       "      <td>0.0</td>\n",
       "      <td>-10375.19</td>\n",
       "      <td>-8490.78</td>\n",
       "      <td>-23056.31</td>\n",
       "      <td>-0.1585</td>\n",
       "      <td>0.1673</td>\n",
       "      <td>0</td>\n",
       "      <td>-2.256641</td>\n",
       "      <td>-0.773885</td>\n",
       "      <td>-0.633327</td>\n",
       "    </tr>\n",
       "    <tr>\n",
       "      <th>2</th>\n",
       "      <td>0.0</td>\n",
       "      <td>-10591.61</td>\n",
       "      <td>-8268.13</td>\n",
       "      <td>-21785.49</td>\n",
       "      <td>-0.1913</td>\n",
       "      <td>0.1805</td>\n",
       "      <td>0</td>\n",
       "      <td>-2.233614</td>\n",
       "      <td>-0.788261</td>\n",
       "      <td>-0.615341</td>\n",
       "    </tr>\n",
       "    <tr>\n",
       "      <th>3</th>\n",
       "      <td>0.0</td>\n",
       "      <td>-10827.50</td>\n",
       "      <td>-8042.95</td>\n",
       "      <td>-20510.45</td>\n",
       "      <td>-0.1643</td>\n",
       "      <td>0.2017</td>\n",
       "      <td>0</td>\n",
       "      <td>-2.209690</td>\n",
       "      <td>-0.802756</td>\n",
       "      <td>-0.596308</td>\n",
       "    </tr>\n",
       "    <tr>\n",
       "      <th>4</th>\n",
       "      <td>0.0</td>\n",
       "      <td>-11053.21</td>\n",
       "      <td>-7800.50</td>\n",
       "      <td>-19239.20</td>\n",
       "      <td>-0.2127</td>\n",
       "      <td>0.1621</td>\n",
       "      <td>0</td>\n",
       "      <td>-2.185353</td>\n",
       "      <td>-0.817029</td>\n",
       "      <td>-0.576596</td>\n",
       "    </tr>\n",
       "  </tbody>\n",
       "</table>\n",
       "</div>"
      ],
      "text/plain": [
       "   brick_id        SX       SY        SZ      TX      TY  shower_id        a0  \\\n",
       "0       0.0 -10177.71 -8697.63 -24330.69 -0.1505  0.1620          0 -2.277941   \n",
       "1       0.0 -10375.19 -8490.78 -23056.31 -0.1585  0.1673          0 -2.256641   \n",
       "2       0.0 -10591.61 -8268.13 -21785.49 -0.1913  0.1805          0 -2.233614   \n",
       "3       0.0 -10827.50 -8042.95 -20510.45 -0.1643  0.2017          0 -2.209690   \n",
       "4       0.0 -11053.21 -7800.50 -19239.20 -0.2127  0.1621          0 -2.185353   \n",
       "\n",
       "     sin_a0    cos_a0  \n",
       "0 -0.760220 -0.649666  \n",
       "1 -0.773885 -0.633327  \n",
       "2 -0.788261 -0.615341  \n",
       "3 -0.802756 -0.596308  \n",
       "4 -0.817029 -0.576596  "
      ]
     },
     "execution_count": 29,
     "metadata": {},
     "output_type": "execute_result"
    }
   ],
   "source": [
    "df_train[:5]"
   ]
  },
  {
   "cell_type": "code",
   "execution_count": 24,
   "metadata": {},
   "outputs": [
    {
     "data": {
      "image/png": "[encoded data removed]",
      "text/plain": [
       "<Figure size 432x288 with 1 Axes>"
      ]
     },
     "metadata": {
      "needs_background": "light"
     },
     "output_type": "display_data"
    }
   ],
   "source": [
    "plt.hist(df_train['cos_a0'], bins=200)\n",
    "plt.show()"
   ]
  },
  {
   "cell_type": "code",
   "execution_count": 48,
   "metadata": {},
   "outputs": [],
   "source": [
    "predicted_labels = []\n",
    "\n",
    "for name, group in df_train.groupby('brick_id'):\n",
    "    dbscan = DBSCAN()\n",
    "    pred = dbscan.fit_predict(group[['SX', 'SY', 'SZ', 'sin_a0', 'cos_a0', 'rt']].values /\\\n",
    "                              np.array([1e3, 1e3, 1e4,1000.7,1000.7, 1e4]))\n",
    "    predicted_labels.append(pred)\n",
    "    \n",
    "preds = np.vstack([df_train.brick_id.values, np.concatenate(predicted_labels)]).T"
   ]
  },
  {
   "cell_type": "code",
   "execution_count": 49,
   "metadata": {},
   "outputs": [
    {
     "data": {
      "text/plain": [
       "0.588259007933111"
      ]
     },
     "execution_count": 49,
     "metadata": {},
     "output_type": "execute_result"
    }
   ],
   "source": [
    "scorer(labels_true=df_train[['brick_id', 'shower_id']].values, labels_pred=preds)"
   ]
  },
  {
   "cell_type": "code",
   "execution_count": null,
   "metadata": {},
   "outputs": [],
   "source": [
    "0.5894914589213301\n",
    "0.46950395388879346\n",
    "0.2888829597959963"
   ]
  },
  {
   "cell_type": "code",
   "execution_count": null,
   "metadata": {},
   "outputs": [],
   "source": []
  },
  {
   "cell_type": "code",
   "execution_count": 49,
   "metadata": {},
   "outputs": [],
   "source": [
    "predicted_labels = []\n",
    "\n",
    "for name, group in df_test.groupby('brick_id'):\n",
    "    dbscan = DBSCAN()\n",
    "    pred = dbscan.fit_predict(group[['SX', 'SY', 'SZ']].values / np.array([1e3, 1e3, 1e4]))\n",
    "    predicted_labels.append(pred)\n",
    "np.savetxt('opera_test.predict', np.vstack([df_test.brick_id.values, np.concatenate(predicted_labels)]).T.astype(int), fmt='%i')"
   ]
  },
  {
   "cell_type": "code",
   "execution_count": 37,
   "metadata": {},
   "outputs": [],
   "source": [
    "df_val= load('data/opera_valid.data')"
   ]
  },
  {
   "cell_type": "code",
   "execution_count": 50,
   "metadata": {},
   "outputs": [],
   "source": [
    "predicted_labels = []\n",
    "\n",
    "for name, group in df_val.groupby('brick_id'):\n",
    "    dbscan = DBSCAN()\n",
    "    pred = dbscan.fit_predict(group[['SX', 'SY', 'SZ']].values / np.array([1e3, 1e3, 1e4]))\n",
    "    predicted_labels.append(pred)\n",
    "np.savetxt('opera_valid.predict', np.vstack([df_val.brick_id.values, np.concatenate(predicted_labels)]).T.astype(int), fmt='%i')"
   ]
  },
  {
   "cell_type": "code",
   "execution_count": null,
   "metadata": {},
   "outputs": [],
   "source": []
  },
  {
   "cell_type": "code",
   "execution_count": null,
   "metadata": {},
   "outputs": [],
   "source": []
  },
  {
   "cell_type": "code",
   "execution_count": null,
   "metadata": {},
   "outputs": [],
   "source": []
  },
  {
   "cell_type": "code",
   "execution_count": null,
   "metadata": {},
   "outputs": [],
   "source": []
  },
  {
   "cell_type": "code",
   "execution_count": null,
   "metadata": {},
   "outputs": [],
   "source": []
  },
  {
   "cell_type": "code",
   "execution_count": null,
   "metadata": {},
   "outputs": [],
   "source": []
  },
  {
   "cell_type": "code",
   "execution_count": null,
   "metadata": {},
   "outputs": [],
   "source": []
  },
  {
   "cell_type": "code",
   "execution_count": null,
   "metadata": {},
   "outputs": [],
   "source": []
  }
 ],
 "metadata": {
  "kernelspec": {
   "display_name": "Python 3",
   "language": "python",
   "name": "python3"
  },
  "language_info": {
   "codemirror_mode": {
    "name": "ipython",
    "version": 3
   },
   "file_extension": ".py",
   "mimetype": "text/x-python",
   "name": "python",
   "nbconvert_exporter": "python",
   "pygments_lexer": "ipython3",
   "version": "3.5.2"
  }
 },
 "nbformat": 4,
 "nbformat_minor": 2
}
